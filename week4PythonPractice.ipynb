{
 "cells": [
  {
   "cell_type": "code",
   "execution_count": 6,
   "id": "19e7fb7e",
   "metadata": {},
   "outputs": [
    {
     "name": "stdout",
     "output_type": "stream",
     "text": [
      "Enter a number 10\n",
      "10 ! is 3628800\n"
     ]
    }
   ],
   "source": [
    "#task1 - Factorial of a Number\n",
    "# Using the \"while\" loop, write a program to calculate the factorial of a number n. \n",
    "# Accept the number n as an input from the user\n",
    "\n",
    "factorial = int(input('Enter a number '))\n",
    "usernum = factorial\n",
    "x = 1\n",
    "while factorial > 1:\n",
    "    x = x * factorial\n",
    "    factorial -= 1\n",
    "\n",
    "print(usernum, \"! is\", x)"
   ]
  },
  {
   "cell_type": "code",
   "execution_count": 7,
   "id": "a53de80c",
   "metadata": {},
   "outputs": [
    {
     "name": "stdout",
     "output_type": "stream",
     "text": [
      "50  is NOT a prime number\n",
      "51  is a prime number\n"
     ]
    }
   ],
   "source": [
    "#task2- Prime Numbers\n",
    "# Create a program that uses the \"while\" loop to check if 50 and 51 are prime numbers.\n",
    "y = 50\n",
    "while y <= 51:\n",
    "    if y % 2 == 0:\n",
    "        print(y,' is NOT a prime number')\n",
    "    elif y / y == 1:\n",
    "        print (y,' is a prime number')\n",
    "    elif y / 1 == y:\n",
    "        print (y,' is a prime number')\n",
    "    y+=1"
   ]
  },
  {
   "cell_type": "code",
   "execution_count": 30,
   "id": "a6925a90",
   "metadata": {},
   "outputs": [
    {
     "name": "stdout",
     "output_type": "stream",
     "text": [
      "Enter a 5 digit number54321\n",
      "5 + 4 + 3 + 2 + 1\n",
      "15\n"
     ]
    }
   ],
   "source": [
    "#task3 - Sum of All Digits\n",
    "# Take a five-digit number input from the user. \n",
    "# Write a program by using the \"while\" loop to calculate the sum of the digits of the number entered by the user.\n",
    "\n",
    "digit5 = int(input('Enter a 5 digit number'))\n",
    "stringNum = str(digit5)\n",
    "\n",
    "print(stringNum[0]+ \" + \" +stringNum[1] + \" + \" + stringNum[2] + \" + \" + stringNum[3] + \" + \" + stringNum[4])\n",
    "backtoINT = int(stringNum[0])+int(stringNum[1]) + int(stringNum[2]) + int(stringNum[3]) + int(stringNum[4])\n",
    "print(backtoINT)"
   ]
  },
  {
   "cell_type": "code",
   "execution_count": 33,
   "id": "c0f59b41",
   "metadata": {},
   "outputs": [
    {
     "name": "stdout",
     "output_type": "stream",
     "text": [
      "0\n",
      "1\n",
      "1\n",
      "2\n",
      "3\n",
      "5\n",
      "8\n"
     ]
    }
   ],
   "source": [
    "#task4- Fibonacci Series\n",
    "# Using the \"while\" loop, write a program to display the Fibonacci series up to seven numbers\n",
    "\n",
    "fib1 = 0\n",
    "fib2 = 1\n",
    "z = 0\n",
    "while z < 7:\n",
    "    print(fib1)\n",
    "    fof = fib1 + fib2\n",
    "    \n",
    "    fib1 = fib2\n",
    "    fib2 = fof\n",
    "    z+=1"
   ]
  },
  {
   "cell_type": "code",
   "execution_count": 34,
   "id": "40f9000f",
   "metadata": {},
   "outputs": [
    {
     "name": "stdout",
     "output_type": "stream",
     "text": [
      "140668387434048\n",
      "140668387449600\n",
      "140668380376512\n"
     ]
    }
   ],
   "source": [
    "#task5 - Adding Two Tuples\n",
    "# Create two tuples, t1=(1,2,3) and t2=(4,5,6).\n",
    "#Display the ids of both tuples.Is there any change in the id of both tuples? Why or why not?\n",
    "\n",
    "t1=(1,2,3)\n",
    "t2=(4,5,6)\n",
    "print(id(t1))\n",
    "print(id(t2))\n",
    "t3 = t1 + t2\n",
    "print(id(t3))\n",
    "\n",
    "# all the ID's are different possibly because they each have their own variable"
   ]
  },
  {
   "cell_type": "code",
   "execution_count": 35,
   "id": "e784137d",
   "metadata": {},
   "outputs": [
    {
     "name": "stdout",
     "output_type": "stream",
     "text": [
      "{70, 10, 20, 30, 33, 40, 50, 55, 60}\n"
     ]
    }
   ],
   "source": [
    "#task6- Inserting Data Into Sets\n",
    "# \n",
    "m = {10, 20, 30, 40, 50}#set\n",
    "n = [33, 40, 55, 60, 70]#list\n",
    "\n",
    "#m.update(n)\n",
    "#print(m)\n",
    "\n",
    "for i in n:\n",
    "    m.add(i)\n",
    "print(m)\n",
    "\n",
    "#no duplicate entries"
   ]
  },
  {
   "cell_type": "code",
   "execution_count": 63,
   "id": "c1d5195d",
   "metadata": {},
   "outputs": [
    {
     "name": "stdout",
     "output_type": "stream",
     "text": [
      "Data : 2\n",
      "SQL : 4\n"
     ]
    }
   ],
   "source": [
    "#task7-  Iterating Over a Dictionary Data Structure\n",
    "# create a program that prints those key-value pairs containing values that are even numbers.\n",
    "\n",
    "data_Set = {'Python': 1, 'Data': 2, 'Excel': 3, 'SQL': 4}\n",
    "\n",
    "\n",
    "    \n",
    "for key,value in data_Set.items():\n",
    "    if value % 2 == 0:\n",
    "        print(key,\":\",value)\n",
    "    \n",
    "        "
   ]
  },
  {
   "cell_type": "code",
   "execution_count": 55,
   "id": "501cab63",
   "metadata": {},
   "outputs": [
    {
     "name": "stdout",
     "output_type": "stream",
     "text": [
      "{1: 1, 2: 4, 3: 9, 4: 16, 5: 25, 6: 36, 7: 49, 8: 64, 9: 81, 10: 100, 11: 121, 12: 144, 13: 169, 14: 196, 15: 225}\n",
      "{1: 1, 2: 4, 3: 9, 4: 16, 5: 25, 6: 36, 7: 49, 8: 64, 9: 81, 10: 100, 11: 121, 12: 144, 13: 169, 14: 196, 15: 225, 100: 10000}\n"
     ]
    }
   ],
   "source": [
    "#task8 Write a Python program to create a dictionary in which the keys are \n",
    "# integers from 1 to 15 and the values are the squares of the keys.\n",
    "\n",
    "taskd=dict()\n",
    "a = dict()\n",
    "\n",
    "for i in range(1,16):\n",
    "    a[i] = i** 2\n",
    "print(a)\n",
    "\n",
    "a.update({100:10000}) #adds a new value\n",
    "print(a)"
   ]
  },
  {
   "cell_type": "code",
   "execution_count": null,
   "id": "b801c65a",
   "metadata": {},
   "outputs": [],
   "source": []
  },
  {
   "cell_type": "code",
   "execution_count": null,
   "id": "cefaa011",
   "metadata": {},
   "outputs": [],
   "source": []
  }
 ],
 "metadata": {
  "kernelspec": {
   "display_name": "Python 3 (ipykernel)",
   "language": "python",
   "name": "python3"
  },
  "language_info": {
   "codemirror_mode": {
    "name": "ipython",
    "version": 3
   },
   "file_extension": ".py",
   "mimetype": "text/x-python",
   "name": "python",
   "nbconvert_exporter": "python",
   "pygments_lexer": "ipython3",
   "version": "3.10.9"
  }
 },
 "nbformat": 4,
 "nbformat_minor": 5
}
