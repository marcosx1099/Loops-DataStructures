{
 "cells": [
  {
   "cell_type": "markdown",
   "id": "4b3b0212",
   "metadata": {},
   "source": [
    "### Write a Python program to simulate an MCQ (multiple-choice question) quiz comprising 10 questions. You can frame your own questions. Every question will have four options, and exactly one option will be the correct answer."
   ]
  },
  {
   "cell_type": "markdown",
   "id": "693b0def",
   "metadata": {},
   "source": [
    "### To answer a question, the user needs to enter the number corresponding to the chosen option. Any entry apart from 1, 2, 3, or 4 will lead to the question getting marked as zero. Every correct answer will carry two marks. Print the final score for the user."
   ]
  },
  {
   "cell_type": "code",
   "execution_count": 2,
   "id": "536cbb73",
   "metadata": {},
   "outputs": [
    {
     "name": "stdout",
     "output_type": "stream",
     "text": [
      "Enter the correct answer between 1 and 5 with 5 being the option to skip the question \n",
      "1 - How many Continents are on Earth? \n",
      "1\n",
      "Correct\n",
      "2 - Which country successfully landed a man on moon? \n",
      "1\n",
      "Correct\n",
      "3 - Which country is not present in the continent of North America? \n",
      "4\n",
      "Correct\n",
      "4 - Which is the American National Bird? \n",
      "5\n",
      "5 - Which country shares the longest border with USA \n",
      "5\n",
      "6 - Which is the financial capital of USA? \n",
      "6\n",
      "Invalid entry, only 1-5. Question will be skipped and you'll lose a point\n",
      "7 - Which of the following space agencies belongs to the USA? \n",
      "3\n",
      "Incorrect\n",
      "8 - Which is the second most spoken language in USA? \n",
      "2\n",
      "Correct\n",
      "9 - What is the capital city of USA? \n",
      "4\n",
      "Correct\n",
      "10 - Mt Rushmore has the sclupture of? \n",
      "1\n",
      "Correct\n",
      "Your total score is:  5\n"
     ]
    }
   ],
   "source": [
    "\n",
    "questions={\"How many Continents are on Earth? \":\"1:Seven 2:Four 3:Five 4:Six\",\n",
    "   \"Which country successfully landed a man on moon? \":\"1:USA 2:Germany 3:France 4:England\",\n",
    "    \"Which country is not present in the continent of North America? \":\"1:Mexico 2:USA 3:Cannada 4:Brazil\",\n",
    "    \"Which is the American National Bird? \":\"1:Parrot 2:Crane 3:Eagle 4:Swan\",\n",
    "    \"Which country shares the longest border with USA \":\"1:Mexico 2:Brazil 3:Canada 4:Argentina\",\n",
    "    \"Which is the financial capital of USA? \":\"1:San Francisco 2:Boston 3:Los Angeles 4:New York City\",\n",
    "    \"Which of the following space agencies belongs to the USA? \":\"1:BNSC 2:ISRO 3:DLR 4:NASA\",\n",
    "  \"Which is the second most spoken language in USA? \":\"1:French 2:Spanish 3:Mandarin 4:Italian\",\n",
    "    \"What is the capital city of USA? \":\"1:New York City 2:Austin 3:San Jose 4:Washington DC\",\n",
    "  \"Mt Rushmore has the sclupture of? \":\"1:Former US Presidents 2:Hollywood stars 3:Military Personel 4:Military Personel\"\n",
    "  }\n",
    "\n",
    "\n",
    "\n",
    "CA = [1,1,4,3,3,4,4,2,4,1]# List of correct options \n",
    "\n",
    "score = 0 \n",
    "keys=list(questions.keys())\n",
    "print(\"Enter the correct answer between 1 and 5 with 5 being the option to skip the question \")\n",
    "for i in range(0,len(questions)): #or just q\n",
    "    print((i+1),'-',keys[i])\n",
    "    ans = int(input(\"\"))\n",
    "    if ans == 5:\n",
    "        continue\n",
    "    elif ans < 5:    # this allows you to skip\n",
    "        if (ans == CA[i]):\n",
    "            print('Correct')\n",
    "            score = score + 1\n",
    "            i = i + 1\n",
    "        else:\n",
    "            print('Incorrect')\n",
    "    else:\n",
    "        print(\"Invalid entry, only 1-5. Question will be skipped and you'll lose a point\")\n",
    "        score -= 1\n",
    "print('Your total score is: ', score)    \n"
   ]
  },
  {
   "cell_type": "code",
   "execution_count": null,
   "id": "29780c05",
   "metadata": {},
   "outputs": [],
   "source": []
  },
  {
   "cell_type": "code",
   "execution_count": null,
   "id": "d7628d89",
   "metadata": {},
   "outputs": [],
   "source": []
  },
  {
   "cell_type": "code",
   "execution_count": null,
   "id": "8180abc6",
   "metadata": {},
   "outputs": [],
   "source": []
  }
 ],
 "metadata": {
  "kernelspec": {
   "display_name": "Python 3 (ipykernel)",
   "language": "python",
   "name": "python3"
  },
  "language_info": {
   "codemirror_mode": {
    "name": "ipython",
    "version": 3
   },
   "file_extension": ".py",
   "mimetype": "text/x-python",
   "name": "python",
   "nbconvert_exporter": "python",
   "pygments_lexer": "ipython3",
   "version": "3.10.9"
  }
 },
 "nbformat": 4,
 "nbformat_minor": 5
}
